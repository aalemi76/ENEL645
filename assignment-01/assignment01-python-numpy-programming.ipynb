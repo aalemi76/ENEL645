{
 "cells": [
  {
   "cell_type": "markdown",
   "id": "nVSfu7M5vmR7",
   "metadata": {
    "id": "nVSfu7M5vmR7"
   },
   "source": [
    "# Assignment #01\n",
    "\n",
    "This assignment is composed of multiple Python and NumPy programming exercises. The deliverable of this assignment is this jupyter-notebook completed with your solution.\n",
    "\n",
    "The delivery instructions are the following:\n",
    "    - Create a GitHub repository for your team. You are free to choose its name. This repository will be used to delvier the programming assignments and the code of your team's final project.\n",
    "    - Create a folder assignment-01 in the repository. Put the jupyter-notebook with your solution in this repository and post the repository link in your team's D2L dropbox for the assignment.\n",
    "\n",
    "You are being assessed based on:\n",
    "\n",
    "1. Code execution - 25% \n",
    "2. Clarity of the code (e.g., easy to follow, has pertinent comments, etc.) - 25%\n",
    "3. Proper usage of the techniques seen in class - 25%\n",
    "    - remember to avoid explicit Python loops!  \n",
    "4. Quality and correcteness of the results - 25%\n",
    "\n",
    "More details about the assessment are available in the rubric document in the class GitHub repository.\n",
    "\n",
    "Points distribution:\n",
    "- Question 2-21: 3 points per question \n",
    "- Questions 22-26: 8 points per question (total 40)\n",
    "- Total: 100 ponits"
   ]
  },
  {
   "cell_type": "code",
   "execution_count": 1,
   "id": "R9ElIRafvmR_",
   "metadata": {
    "id": "R9ElIRafvmR_"
   },
   "outputs": [],
   "source": [
    "import matplotlib.pylab as plt"
   ]
  },
  {
   "cell_type": "markdown",
   "id": "tiT37NW-vmSB",
   "metadata": {
    "id": "tiT37NW-vmSB"
   },
   "source": [
    "**1. Import the numpy package under the name np**"
   ]
  },
  {
   "cell_type": "code",
   "execution_count": 2,
   "id": "XwvM5YvIvmSC",
   "metadata": {
    "id": "XwvM5YvIvmSC"
   },
   "outputs": [],
   "source": [
    "import numpy as np"
   ]
  },
  {
   "cell_type": "markdown",
   "id": "2LiOAET-vmSC",
   "metadata": {
    "id": "2LiOAET-vmSC"
   },
   "source": [
    "**2. Print the numpy version and the configuration**"
   ]
  },
  {
   "cell_type": "code",
   "execution_count": 3,
   "id": "WxQLMNeWvmSC",
   "metadata": {
    "id": "WxQLMNeWvmSC"
   },
   "outputs": [
    {
     "name": "stdout",
     "output_type": "stream",
     "text": [
      "1.20.3\n",
      "blas_mkl_info:\n",
      "    libraries = ['mkl_rt']\n",
      "    library_dirs = ['C:/Users/User/anaconda3\\\\Library\\\\lib']\n",
      "    define_macros = [('SCIPY_MKL_H', None), ('HAVE_CBLAS', None)]\n",
      "    include_dirs = ['C:/Users/User/anaconda3\\\\Library\\\\include']\n",
      "blas_opt_info:\n",
      "    libraries = ['mkl_rt']\n",
      "    library_dirs = ['C:/Users/User/anaconda3\\\\Library\\\\lib']\n",
      "    define_macros = [('SCIPY_MKL_H', None), ('HAVE_CBLAS', None)]\n",
      "    include_dirs = ['C:/Users/User/anaconda3\\\\Library\\\\include']\n",
      "lapack_mkl_info:\n",
      "    libraries = ['mkl_rt']\n",
      "    library_dirs = ['C:/Users/User/anaconda3\\\\Library\\\\lib']\n",
      "    define_macros = [('SCIPY_MKL_H', None), ('HAVE_CBLAS', None)]\n",
      "    include_dirs = ['C:/Users/User/anaconda3\\\\Library\\\\include']\n",
      "lapack_opt_info:\n",
      "    libraries = ['mkl_rt']\n",
      "    library_dirs = ['C:/Users/User/anaconda3\\\\Library\\\\lib']\n",
      "    define_macros = [('SCIPY_MKL_H', None), ('HAVE_CBLAS', None)]\n",
      "    include_dirs = ['C:/Users/User/anaconda3\\\\Library\\\\include']\n",
      "None\n"
     ]
    }
   ],
   "source": [
    "print(np.__version__) #printing numpy version\n",
    "print(np.show_config()) #printing numpy configuration"
   ]
  },
  {
   "cell_type": "markdown",
   "id": "DFqx6HAzvmSD",
   "metadata": {
    "id": "DFqx6HAzvmSD"
   },
   "source": [
    "**3. Create a 1D array of zeros of size 10 of type float32**"
   ]
  },
  {
   "cell_type": "code",
   "execution_count": 4,
   "id": "02obNooqvmSD",
   "metadata": {
    "id": "02obNooqvmSD"
   },
   "outputs": [
    {
     "data": {
      "text/plain": [
       "array([0., 0., 0., 0., 0., 0., 0., 0., 0., 0.], dtype=float32)"
      ]
     },
     "execution_count": 4,
     "metadata": {},
     "output_type": "execute_result"
    }
   ],
   "source": [
    "np.zeros(10, dtype=np.float32) #np.zeros creates an array, the first parameter denotes the size of array and the second parameter (dtype) denotes the data type."
   ]
  },
  {
   "cell_type": "markdown",
   "id": "eoMv7lwKvmSD",
   "metadata": {
    "id": "eoMv7lwKvmSD"
   },
   "source": [
    "**4. Print the memory size of the array below**"
   ]
  },
  {
   "cell_type": "code",
   "execution_count": 5,
   "id": "yC20RRPUvmSE",
   "metadata": {
    "id": "yC20RRPUvmSE"
   },
   "outputs": [
    {
     "name": "stdout",
     "output_type": "stream",
     "text": [
      "The memory size of the array: 3072 bytes\n"
     ]
    }
   ],
   "source": [
    "Z = np.zeros((32,12))\n",
    "# Include your solution below\n",
    "# Print the memory size of the array using size and itemsize attributes of NumPy array. \n",
    "# size: This attribute gives the number of elements present in the NumPy array. itemsize: This attribute gives the memory size of one element of NumPy array in bytes\n",
    "\n",
    "print(\"The memory size of the array: %d bytes\" % (Z.size * Z.itemsize)) "
   ]
  },
  {
   "cell_type": "markdown",
   "id": "V0F3tA4rvmSE",
   "metadata": {
    "id": "V0F3tA4rvmSE"
   },
   "source": [
    "**5. Create a 1D array with values ranging from 10 to 58**"
   ]
  },
  {
   "cell_type": "code",
   "execution_count": 6,
   "id": "D6pJTid1vmSF",
   "metadata": {
    "id": "D6pJTid1vmSF"
   },
   "outputs": [
    {
     "name": "stdout",
     "output_type": "stream",
     "text": [
      "[10 11 12 13 14 15 16 17 18 19 20 21 22 23 24 25 26 27 28 29 30 31 32 33\n",
      " 34 35 36 37 38 39 40 41 42 43 44 45 46 47 48 49 50 51 52 53 54 55 56 57\n",
      " 58]\n"
     ]
    }
   ],
   "source": [
    "# There are two ways to do so one is with arange function which\n",
    "# makes a one-dimensional array ranging from the first number to the second number\n",
    "# excluding the last one. So to include 58, I have specified 59 as the second number.\n",
    "q5_array = np.arange(10, 59)\n",
    "print(q5_array)\n",
    "\n",
    "# The other way to do the same is to use linespace in which\n",
    "# you only specify the starting point, the ending point, and\n",
    "# the number of array elements.\n",
    "# Uncomment the following three lines to see the two methods produce the same result.\n",
    "\n",
    "# q5_array2 = np.linspace(10, 58, 49)\n",
    "# print(q5_array2)\n",
    "# print(f\"Are the two arrays produce the same result: {(q5_array == q5_array2).all()}\")"
   ]
  },
  {
   "cell_type": "markdown",
   "id": "AxlyprX3vmSF",
   "metadata": {
    "id": "AxlyprX3vmSF"
   },
   "source": [
    "**6. Reverse the order of the values in the vector (first element becomes last)**"
   ]
  },
  {
   "cell_type": "code",
   "execution_count": 7,
   "id": "eCRS1GwkvmSF",
   "metadata": {
    "id": "eCRS1GwkvmSF"
   },
   "outputs": [
    {
     "name": "stdout",
     "output_type": "stream",
     "text": [
      "\n",
      " Reverse  order of a =  [9 8 7 6 5 4 3 2 1 0] \n",
      "\n"
     ]
    }
   ],
   "source": [
    "# create ndarrays linearly spaced (step=1) between a range of values(0..9) \n",
    "a = np.arange(10)  \n",
    "\n",
    "# Shallow Copy; create a new variable that points to the same data as the original variable ; revers the array by step -1 \n",
    "b=a[::-1] \n",
    "\n",
    "\n",
    "# print revers \"a\" values\n",
    "print('\\n Reverse  order of a = ',b,\"\\n\")        "
   ]
  },
  {
   "cell_type": "markdown",
   "id": "x73AYTGTvmSG",
   "metadata": {
    "id": "x73AYTGTvmSG"
   },
   "source": [
    "**7. Create a 3x3 matrix with values ranging from 0 to 8**"
   ]
  },
  {
   "cell_type": "code",
   "execution_count": 8,
   "id": "vdJs4r9JvmSG",
   "metadata": {
    "id": "vdJs4r9JvmSG"
   },
   "outputs": [
    {
     "name": "stdout",
     "output_type": "stream",
     "text": [
      "3x3 matrix  with values ranging from 0 to 8 = \n",
      " [[0 1 2]\n",
      " [3 4 5]\n",
      " [6 7 8]]\n"
     ]
    }
   ],
   "source": [
    "# create ndarrays linearly spaced (step=1) between a range of values(0..8)\n",
    "a=np.arange(9) \n",
    "\n",
    "#change the shape of ndarray from (9,) to (3,3) \n",
    "a.shape=(3,3)  \n",
    "\n",
    "# print the ndarray\n",
    "print ('3x3 matrix  with values ranging from 0 to 8 =',\"\\n\",a)\n",
    "    "
   ]
  },
  {
   "cell_type": "markdown",
   "id": "rtn9kcjmvmSG",
   "metadata": {
    "id": "rtn9kcjmvmSG"
   },
   "source": [
    "**8. Create a 3x3 identity matrix**"
   ]
  },
  {
   "cell_type": "code",
   "execution_count": 9,
   "id": "8hdTeWcovmSH",
   "metadata": {
    "id": "8hdTeWcovmSH"
   },
   "outputs": [
    {
     "data": {
      "text/plain": [
       "array([[1., 0., 0.],\n",
       "       [0., 1., 0.],\n",
       "       [0., 0., 1.]])"
      ]
     },
     "execution_count": 9,
     "metadata": {},
     "output_type": "execute_result"
    }
   ],
   "source": [
    "np.identity(3) #np.identity is used to create a square identity matrix i.e. all elements zero with 1's in the main diagonal. The parameter '3' is the size of the square array."
   ]
  },
  {
   "cell_type": "markdown",
   "id": "2kjG1CiivmSH",
   "metadata": {
    "id": "2kjG1CiivmSH"
   },
   "source": [
    "**9. Find and print the maximum values of each column in the array below** "
   ]
  },
  {
   "cell_type": "code",
   "execution_count": 10,
   "id": "5omaeYBfvmSH",
   "metadata": {
    "id": "5omaeYBfvmSH"
   },
   "outputs": [
    {
     "name": "stdout",
     "output_type": "stream",
     "text": [
      "[0.90779949 0.98602947 0.65344916 0.86536083 0.94917173 0.87922706\n",
      " 0.86207629 0.92754256 0.86432689 0.86194815 0.92988594]\n"
     ]
    }
   ],
   "source": [
    "Z = np.random.random((10,11))\n",
    "# Include your solution below\n",
    "\n",
    "# There is a built-in function for NumPy arrays named max with which\n",
    "# you can calculate the maximum element of a given array by specifying\n",
    "# the axis along which you are willing to obtain the max. For this example\n",
    "# as we want to calculate the max for each column, we specify 0 for the axis and the \n",
    "# resulting array should have 11 elements.\n",
    "column_max = Z.max(axis=0)\n",
    "print(column_max)"
   ]
  },
  {
   "cell_type": "code",
   "execution_count": null,
   "id": "9H_rQU29vmSI",
   "metadata": {
    "id": "9H_rQU29vmSI"
   },
   "outputs": [],
   "source": []
  },
  {
   "cell_type": "markdown",
   "id": "4aqhA5QxvmSI",
   "metadata": {
    "id": "4aqhA5QxvmSI"
   },
   "source": [
    "**10. Create a $7 \\times 7$ array with 1s on the borders (first row and column, last row and columns) and 0s everywhere else**"
   ]
  },
  {
   "cell_type": "code",
   "execution_count": 11,
   "id": "kjl_GY9kvmSI",
   "metadata": {
    "id": "kjl_GY9kvmSI"
   },
   "outputs": [
    {
     "name": "stdout",
     "output_type": "stream",
     "text": [
      "[[1. 1. 1. 1. 1. 1. 1.]\n",
      " [1. 0. 0. 0. 0. 0. 1.]\n",
      " [1. 0. 0. 0. 0. 0. 1.]\n",
      " [1. 0. 0. 0. 0. 0. 1.]\n",
      " [1. 0. 0. 0. 0. 0. 1.]\n",
      " [1. 0. 0. 0. 0. 0. 1.]\n",
      " [1. 1. 1. 1. 1. 1. 1.]]\n"
     ]
    }
   ],
   "source": [
    "a = np.ones((7,7) ) #create a 7x7 array of ones\n",
    "a[1:-1,1:-1]=0 #using indexing change the central values to 0\n",
    "print(a) #print the solution"
   ]
  },
  {
   "cell_type": "markdown",
   "id": "kefqxnP4vmSI",
   "metadata": {
    "id": "kefqxnP4vmSI"
   },
   "source": [
    "**11. Pad the existing array below with zeros (i.e., add additional rows and columns with zeros). Use the NumPy pad function.**"
   ]
  },
  {
   "cell_type": "code",
   "execution_count": 12,
   "id": "3YN1KfapvmSJ",
   "metadata": {
    "id": "3YN1KfapvmSJ"
   },
   "outputs": [
    {
     "name": "stdout",
     "output_type": "stream",
     "text": [
      "Initial array:\n",
      " [[1. 1. 1. 1. 1.]\n",
      " [1. 1. 1. 1. 1.]\n",
      " [1. 1. 1. 1. 1.]\n",
      " [1. 1. 1. 1. 1.]\n",
      " [1. 1. 1. 1. 1.]]\n",
      "-------------------------------\n",
      "\n",
      "First option for padding with 0:\n",
      " [[0. 0. 0. 0. 0. 0. 0.]\n",
      " [0. 1. 1. 1. 1. 1. 0.]\n",
      " [0. 1. 1. 1. 1. 1. 0.]\n",
      " [0. 1. 1. 1. 1. 1. 0.]\n",
      " [0. 1. 1. 1. 1. 1. 0.]\n",
      " [0. 1. 1. 1. 1. 1. 0.]\n",
      " [0. 0. 0. 0. 0. 0. 0.]]\n",
      "-------------------------------\n",
      "\n",
      "Second option for padding with 0:\n",
      " [[0. 0. 0. 0. 0. 0. 0.]\n",
      " [0. 1. 1. 1. 1. 1. 0.]\n",
      " [0. 1. 1. 1. 1. 1. 0.]\n",
      " [0. 1. 1. 1. 1. 1. 0.]\n",
      " [0. 1. 1. 1. 1. 1. 0.]\n",
      " [0. 1. 1. 1. 1. 1. 0.]\n",
      " [0. 0. 0. 0. 0. 0. 0.]]\n"
     ]
    }
   ],
   "source": [
    "Z = np.ones((5,5))\n",
    "\n",
    "# Include your solution below\n",
    "print(\"Initial array:\\n\", Z)\n",
    "print(\"-------------------------------\\n\")\n",
    "\n",
    "# First Option\n",
    "# The array padding transformation sets a dimension in an array to a new size. The goal of this transformation is to reduce the number of memory system conflicts.\n",
    "Z = np.pad(Z, pad_width=1, mode='constant', constant_values=0)\n",
    "print(\"First option for padding with 0:\\n\", Z)\n",
    "print(\"-------------------------------\\n\")\n",
    "\n",
    "# Second Option\n",
    "# Fancy indexing is like the simple indexing we've already seen, but we pass arrays of indices in place of single scalars. This allows us to very quickly access and modify complicated subsets of an array's values.\n",
    "# Fancy indexing\n",
    "Z[:, [0, -1]] = 0\n",
    "Z[[0, -1], :] = 0\n",
    "print(\"Second option for padding with 0:\\n\", Z)"
   ]
  },
  {
   "cell_type": "markdown",
   "id": "9zTVGFnCvmSJ",
   "metadata": {
    "id": "9zTVGFnCvmSJ"
   },
   "source": [
    "**12. Extract the integer part of the random array of positive numbers below**"
   ]
  },
  {
   "cell_type": "code",
   "execution_count": 13,
   "id": "cEbeOkEjvmSJ",
   "metadata": {
    "id": "cEbeOkEjvmSJ"
   },
   "outputs": [
    {
     "name": "stdout",
     "output_type": "stream",
     "text": [
      "[8 0 2 2 2 3 7 5 8 8]\n"
     ]
    }
   ],
   "source": [
    "Z = np.random.uniform(0,10,10)\n",
    "# Include your solution below\n",
    "# print(f\"The original array is: {Z}\\n\") #Uncomment this line to see the original array.\n",
    "\n",
    "# To extract the integer part of an array element,\n",
    "# we can simply cast elements to integer \n",
    "# by calling the astype function and specifying int as the function input.\n",
    "q12_answer = Z.astype(int)\n",
    "print(q12_answer)"
   ]
  },
  {
   "cell_type": "markdown",
   "id": "qsqZLjCDvmSK",
   "metadata": {
    "id": "qsqZLjCDvmSK"
   },
   "source": [
    "**13. Create a 5x5 matrix with rows with equal values ranging from 0 to 4 (i.e., [0,1,2,3,4])**\n",
    "\n",
    "*Hint:* consider using NumPy broadcasting or the tile function*"
   ]
  },
  {
   "cell_type": "code",
   "execution_count": 14,
   "id": "IzxkIKuNvmSL",
   "metadata": {
    "id": "IzxkIKuNvmSL"
   },
   "outputs": [
    {
     "name": "stdout",
     "output_type": "stream",
     "text": [
      "[[0 1 2 3 4]\n",
      " [0 1 2 3 4]\n",
      " [0 1 2 3 4]\n",
      " [0 1 2 3 4]\n",
      " [0 1 2 3 4]]\n"
     ]
    }
   ],
   "source": [
    "z = np.tile(np.arange(0,5),(5,1)) #use Numpy tile function to create a 5x5 matrix where each row values ranging from 0 to 4\n",
    "print(z) #print solution"
   ]
  },
  {
   "cell_type": "markdown",
   "id": "jDgWqVyovmSL",
   "metadata": {
    "id": "jDgWqVyovmSL"
   },
   "source": [
    "**14. Create a vector of size 10 with values ranging from 0 to 1 (0 and 1 not included)**\n",
    "\n",
    "*Hint: Consider using the linspace function*"
   ]
  },
  {
   "cell_type": "code",
   "execution_count": 15,
   "id": "rT2B53N-vmSL",
   "metadata": {
    "id": "rT2B53N-vmSL"
   },
   "outputs": [
    {
     "data": {
      "text/plain": [
       "array([0.09090909, 0.18181818, 0.27272727, 0.36363636, 0.45454545,\n",
       "       0.54545455, 0.63636364, 0.72727273, 0.81818182, 0.90909091])"
      ]
     },
     "execution_count": 15,
     "metadata": {},
     "output_type": "execute_result"
    }
   ],
   "source": [
    "#linspace returns 11 (given by third parameter) evenly spaced values in the range of 1 (given by first parameter) to 1 (second paramater).\n",
    "#to get 10 values between 0 and 1, we get 11 values and then discard the first value so as to not include the starting value i.e. 0, and use the endpoint parameter to not include endpoint i.e. 1.\n",
    "x = np.linspace(0,1,11, endpoint=False)[1:] \n",
    "x"
   ]
  },
  {
   "cell_type": "markdown",
   "id": "fCZ3_M74vmSL",
   "metadata": {
    "id": "fCZ3_M74vmSL"
   },
   "source": [
    "**15. Create a random vector of size 10 and sort it**"
   ]
  },
  {
   "cell_type": "code",
   "execution_count": 16,
   "id": "dg_Fx29mvmSM",
   "metadata": {
    "id": "dg_Fx29mvmSM"
   },
   "outputs": [
    {
     "name": "stdout",
     "output_type": "stream",
     "text": [
      "[0.29073028 0.40729607 0.54555732 0.73946306 0.8452448  0.84588772\n",
      " 0.89597927 0.92858443 0.97802498 0.99824281]\n"
     ]
    }
   ],
   "source": [
    "Z = np.random.random(10)\n",
    "Z.sort() # Note: This method returns a copy of the array, leaving the original array unchanged. To save the result in a new variable, the following code should be used: Z_sortet = Z.sort()\n",
    "print(Z)"
   ]
  },
  {
   "cell_type": "markdown",
   "id": "gOIgqax2vmSM",
   "metadata": {
    "id": "gOIgqax2vmSM"
   },
   "source": [
    "**16. Consider the cartesian coordinates below (X and Y), convert them to polar coordinates (R and T)**"
   ]
  },
  {
   "cell_type": "code",
   "execution_count": 17,
   "id": "e8892RQcvmSM",
   "metadata": {
    "id": "e8892RQcvmSM"
   },
   "outputs": [
    {
     "name": "stdout",
     "output_type": "stream",
     "text": [
      "polar coordinates (R and T) \n",
      "\n",
      "R = [0.49756319 1.21139987 0.17809961 0.39029716 0.59660322 1.18237036\n",
      " 0.37138956 0.57117689 0.34506366 1.1100704 ] \n",
      "\n",
      "T= [0.61042074 0.86044921 0.79761698 0.01707966 0.51612949 0.60920351\n",
      " 0.09411342 0.96180219 1.38994508 0.8816367 ] \n",
      "\n"
     ]
    }
   ],
   "source": [
    "# Return an array with 10 rows and 2 columns of random floats numbers from [0.0, 1.0)                                          \n",
    "Z = np.random.random((10,2))\n",
    "\n",
    "\n",
    "# Slice the array to creat two 1-D array; X = All rows in first column; Y=All rows in column 1 \n",
    "# Consider (X and Y) as cartesian coordinates \n",
    "X,Y = Z[:,0], Z[:,1]\n",
    "\n",
    "\n",
    "#convert cartesian coordinates (X and Y) to polar coordinates (R and T)\n",
    "R=np.sqrt(X**2+Y**2)\n",
    "T=np.arctan2(Y,X)\n",
    "\n",
    "\n",
    "#print polar coordinates (R and T)\n",
    "print('polar coordinates (R and T)',\"\\n\")\n",
    "print('R =',R,\"\\n\")\n",
    "print('T=',T,\"\\n\")\n"
   ]
  },
  {
   "cell_type": "markdown",
   "id": "ZZqY5hfrvmSN",
   "metadata": {
    "id": "ZZqY5hfrvmSN"
   },
   "source": [
    "**17. Create random vector of size 10 and replace the maximum value by 0**"
   ]
  },
  {
   "cell_type": "code",
   "execution_count": 18,
   "id": "QSvkzPJfvmSN",
   "metadata": {
    "id": "QSvkzPJfvmSN"
   },
   "outputs": [
    {
     "name": "stdout",
     "output_type": "stream",
     "text": [
      "[0.95309377 0.94174349 0.99582295 0.19267355 0.23187691 0.25454062\n",
      " 0.17688614 0.71775036 0.25482141 0.43619953]\n",
      "[0.95309377 0.94174349 0.         0.19267355 0.23187691 0.25454062\n",
      " 0.17688614 0.71775036 0.25482141 0.43619953]\n"
     ]
    }
   ],
   "source": [
    "z = np.random.random(10) #create a random vector size 10\n",
    "print(z) #print the random vector\n",
    "z[z.argmax()] = 0 #use argmax to find the maximum value, use indexing to replace with 0\n",
    "print(z) #print z where the max value has been replaced with 0"
   ]
  },
  {
   "cell_type": "markdown",
   "id": "68uDLoyDvmSN",
   "metadata": {
    "id": "68uDLoyDvmSN"
   },
   "source": [
    "**18. Find the nearest value from a given value (z) in an array (Z)**"
   ]
  },
  {
   "cell_type": "code",
   "execution_count": 19,
   "id": "IfEIwh7PvmSN",
   "metadata": {
    "id": "IfEIwh7PvmSN"
   },
   "outputs": [
    {
     "name": "stdout",
     "output_type": "stream",
     "text": [
      "array (Z) = \n",
      " [0.11698789 0.69257445 0.7558275  0.04556344 0.44694735 0.12605322\n",
      " 0.78761664 0.95291197 0.45392169 0.4669526 ] \n",
      "\n",
      "given value (z) =  0.5 \n",
      "\n",
      "the nearest value from a given value (z) in an array (Z) = 0.46695259751000906\n"
     ]
    }
   ],
   "source": [
    "# Return a 1-D array with 10 values between ( 0, 1) from Uniform distribution \n",
    "Z = np.random.uniform(0,1,10) \n",
    "\n",
    "# a given value\n",
    "z = 0.5   \n",
    "\n",
    "\n",
    "# Find the nearset value from the given value z in an array Z\n",
    "   # np.abs : Calculate the absolute value ; argmin : Returns the indices of the minimum values\n",
    "   # Z.flat : allows iterating over the array Z , either in a for-loop or by calling its `next` method\n",
    "n = Z.flat[np.abs(Z - z).argmin()] \n",
    "\n",
    "# print original values\n",
    "print('array (Z) = \\n',Z ,\"\\n\")\n",
    "print('given value (z) = ',z,\"\\n\")\n",
    "\n",
    "# print the nearest value from a given value (z) in an array (Z) \n",
    "print('the nearest value from a given value (z) in an array (Z) =',n)\n"
   ]
  },
  {
   "cell_type": "markdown",
   "id": "ZG0c1mhMvmSO",
   "metadata": {
    "id": "ZG0c1mhMvmSO"
   },
   "source": [
    "**19. Consider the vector [5, 4, 3, 2, 1], how to build a new vector with 3 consecutive zeros interleaved between each value?**"
   ]
  },
  {
   "cell_type": "code",
   "execution_count": 20,
   "id": "2jKjZhNgvmSO",
   "metadata": {
    "id": "2jKjZhNgvmSO"
   },
   "outputs": [
    {
     "name": "stdout",
     "output_type": "stream",
     "text": [
      "[4. 0. 0. 0. 3. 0. 0. 0. 2. 0. 0. 0. 1. 0. 0. 0. 0.]\n"
     ]
    }
   ],
   "source": [
    "Z = np.arange(5)[::-1]\n",
    "# Include your solution below\n",
    "\n",
    "numberOf_zeros = 3 # number of zeros we want to add between each value\n",
    "Z_final = np.zeros(len(Z) + (len(Z)-1)*(numberOf_zeros)) # creating a new array with the number of zeros needed to be add to the primary array\n",
    "Z_final[::numberOf_zeros+1] = Z # filling the array with original numbers and 3 consecutive zeros between each value\n",
    "print(Z_final)"
   ]
  },
  {
   "cell_type": "markdown",
   "id": "-3VzEWQhvmSO",
   "metadata": {
    "id": "-3VzEWQhvmSO"
   },
   "source": [
    "**20. Consider an array of dimension (5,5,3), how to mulitply it element-wise by an array with dimensions (5,5) - i.e., (5,5,0)$\\times$(5,5), (5,5,1)$\\times$(5,5), (5,5,2)$\\times$(5,5)**"
   ]
  },
  {
   "cell_type": "code",
   "execution_count": 21,
   "id": "3CvfRLn3vmSP",
   "metadata": {
    "id": "3CvfRLn3vmSP"
   },
   "outputs": [
    {
     "name": "stdout",
     "output_type": "stream",
     "text": [
      "(5, 5, 3) \n",
      " [[[2. 2. 2.]\n",
      "  [2. 2. 2.]\n",
      "  [2. 2. 2.]\n",
      "  [2. 2. 2.]\n",
      "  [2. 2. 2.]]\n",
      "\n",
      " [[2. 2. 2.]\n",
      "  [2. 2. 2.]\n",
      "  [2. 2. 2.]\n",
      "  [2. 2. 2.]\n",
      "  [2. 2. 2.]]\n",
      "\n",
      " [[2. 2. 2.]\n",
      "  [2. 2. 2.]\n",
      "  [2. 2. 2.]\n",
      "  [2. 2. 2.]\n",
      "  [2. 2. 2.]]\n",
      "\n",
      " [[2. 2. 2.]\n",
      "  [2. 2. 2.]\n",
      "  [2. 2. 2.]\n",
      "  [2. 2. 2.]\n",
      "  [2. 2. 2.]]\n",
      "\n",
      " [[2. 2. 2.]\n",
      "  [2. 2. 2.]\n",
      "  [2. 2. 2.]\n",
      "  [2. 2. 2.]\n",
      "  [2. 2. 2.]]]\n"
     ]
    }
   ],
   "source": [
    "A = np.ones((5,5,3))\n",
    "B = 2*np.ones((5,5))\n",
    "# Include your solution below\n",
    "#np.einsum takes i,j,k (the 3 axes of A) and i,j (the 2 axes) of B as inputs, common notations i, j in both A & B denote that i,j matrix of A is multiplied elementwise with i,j matrix of B. This is repeated for each k (depth) of A. \n",
    "C = np.einsum('ijk,ij->ijk', A, B)  \n",
    "print(C.shape,'\\n', C)"
   ]
  },
  {
   "cell_type": "markdown",
   "id": "QUrWnAAHvmSP",
   "metadata": {
    "id": "QUrWnAAHvmSP"
   },
   "source": [
    "**21. Swap the first and second rows of the 2D array below**"
   ]
  },
  {
   "cell_type": "code",
   "execution_count": 22,
   "id": "dgkFMhYivmSP",
   "metadata": {
    "id": "dgkFMhYivmSP"
   },
   "outputs": [
    {
     "name": "stdout",
     "output_type": "stream",
     "text": [
      "[[ 0  1  2  3  4]\n",
      " [ 5  6  7  8  9]\n",
      " [10 11 12 13 14]\n",
      " [15 16 17 18 19]\n",
      " [20 21 22 23 24]\n",
      " [25 26 27 28 29]]\n",
      "\n",
      "[[ 5  6  7  8  9]\n",
      " [ 0  1  2  3  4]\n",
      " [10 11 12 13 14]\n",
      " [15 16 17 18 19]\n",
      " [20 21 22 23 24]\n",
      " [25 26 27 28 29]]\n"
     ]
    }
   ],
   "source": [
    "W = np.arange(30).reshape(6,5)\n",
    "print(W)\n",
    "print()\n",
    "# Include your solution below\n",
    "\n",
    "# This could be done by specifying the rows' number \n",
    "# and changing their order and assigning the matrix to itself.\n",
    "W[[0, 1]] = W[[1, 0]]\n",
    "print(W)"
   ]
  },
  {
   "cell_type": "markdown",
   "id": "Vxjhb756vmSQ",
   "metadata": {
    "id": "Vxjhb756vmSQ"
   },
   "source": [
    "**22. Write a function that receives as input a 2D Boolean NumPy array and outputs the coordinates of the minimal bounding-box\n",
    "that encloses all non-zero elements in the input array**\n",
    "\n",
    "**Tip:** search for the functions nonzero and where in the NumPy documentation.\n",
    "\n",
    "\n",
    "<img src=\"https://github.com/rmsouza01/ENEL645/blob/master/Figures/bbox.png?raw=1\" width=\"150\" /> "
   ]
  },
  {
   "cell_type": "code",
   "execution_count": 23,
   "id": "ua4eg14zvmSQ",
   "metadata": {
    "id": "ua4eg14zvmSQ"
   },
   "outputs": [
    {
     "name": "stdout",
     "output_type": "stream",
     "text": [
      "((50, 29), (431, 342))\n"
     ]
    },
    {
     "data": {
      "text/plain": [
       "<matplotlib.image.AxesImage at 0x22b70b276a0>"
      ]
     },
     "execution_count": 23,
     "metadata": {},
     "output_type": "execute_result"
    },
    {
     "data": {
      "image/png": "[encoded data removed]",
      "text/plain": [
       "<Figure size 432x288 with 1 Axes>"
      ]
     },
     "metadata": {
      "needs_background": "light"
     },
     "output_type": "display_data"
    }
   ],
   "source": [
    "def bbox(img):\n",
    "    #include your solution below\n",
    "    y,x = np.where(img == 1) #coordinate arrays (y and x) are returned denoting all location with '1' in the image\n",
    "    r1, c1 = min(x), min(y) #min values from both x and y coordinate arrays are calculated for top left coordinates of bounding box\n",
    "    r2, c2 = max(x), max(y) #max values from both x and y coordinate arrays are calculated for bottom right coordinates of bounding box\n",
    "    return (r1,c1),(r2,c2)\n",
    "\n",
    "\n",
    "from PIL import Image, ImageDraw\n",
    "\n",
    "img = np.array(Image.open('./Figures/bin_image.png').convert('L')) > 0\n",
    "print(bbox(img))\n",
    "\n",
    "#displaying image with bounding box\n",
    "a, b = bbox(img)\n",
    "im = Image.open('./Figures/bin_image.png')\n",
    "draw = ImageDraw.Draw(im)\n",
    "draw.rectangle([(a[0], a[1]), (b[0], b[1])], outline='red')\n",
    "plt.imshow(im)\n"
   ]
  },
  {
   "cell_type": "markdown",
   "id": "q2xeRAd1vmSQ",
   "metadata": {
    "id": "q2xeRAd1vmSQ"
   },
   "source": [
    "**23.Write a function to compute the average over a sliding window of length N over a 1D array?**\n",
    "\n",
    "*Example:* [1,2,3,4,5,6,7,8,9], N = 3 -> [2,5,8]"
   ]
  },
  {
   "cell_type": "code",
   "execution_count": 24,
   "id": "BXPXK6sXvmSR",
   "metadata": {
    "id": "BXPXK6sXvmSR"
   },
   "outputs": [
    {
     "name": "stdout",
     "output_type": "stream",
     "text": [
      "[ 1.  4.  7. 10. 13. 16. 19. 22. 25. 28.]\n"
     ]
    }
   ],
   "source": [
    "def moving_average(x,N = 3):\n",
    "    #define your function here\n",
    "\n",
    "    # My approach to this problem is making a 2D matrix with three elements\n",
    "    # in each row and then computing the mean of each row.\n",
    "    row_num = int(len(x) / N) # Calculate the number of rows.\n",
    "\n",
    "    # Reshaping the original array to make a 2D matrix and \n",
    "    # making a deep copy of the original array.\n",
    "    new_array = x.copy().reshape(row_num, N)\n",
    "\n",
    "    return new_array.mean(axis=1) # Calculate the mean along the axis 1 which means for each row.\n",
    "    \n",
    "# If we are not sure that the number of array elements is a multiple of N, we should use the following function.\n",
    "# def moving_average(x,N = 3):\n",
    "#     #define your function here\n",
    "\n",
    "#     # My approach to this problem is making a 2D matrix with three elements\n",
    "#     # in each row and then computing the mean of each row.\n",
    "#     row_num = int(len(x) / N) # Calculate the number of rows.\n",
    "#     diff = len(x) - row_num * N\n",
    "#     if diff != 0:\n",
    "#         # Adding zeros to original array to make it a multiple of N and \n",
    "#         # making a deep copy of it.\n",
    "#         x_copy = np.append(x.copy(), np.zeros(N - diff, dtype= int))\n",
    "\n",
    "#         # Reshaping the original array to make a 2D matrix.\n",
    "#         new_array = x_copy.reshape(row_num + 1, N)\n",
    "\n",
    "#         return new_array.mean(axis=1) # Calculate the mean along the axis 1 which means for each row.\n",
    "#     else:\n",
    "#         # Reshaping the original array to make a 2D matrix and \n",
    "#         # making a deep copy of the original array.\n",
    "#         new_array = x.copy().reshape(row_num, N)\n",
    "\n",
    "#         return new_array.mean(axis=1) # Calculate the mean along the axis 1 which means for each row.  \n",
    "\n",
    "\n",
    "a = np.arange(30)\n",
    "N = 3\n",
    "print(moving_average(a,N))"
   ]
  },
  {
   "cell_type": "markdown",
   "id": "xYvccoZLvmSR",
   "metadata": {
    "id": "xYvccoZLvmSR"
   },
   "source": [
    "**24.  Given a sorted 1D array C that corresponds to a bincount, how to produce an array A such that np.bincount(A) == C?**\n",
    "\n",
    "*Example:* C = [3,2,4] -> D = [0,0,0,1,1,2,2,2,2]\n",
    "\n",
    "*Tip:* Consider using the NumPy repeat function"
   ]
  },
  {
   "cell_type": "code",
   "execution_count": 25,
   "id": "13f61efd",
   "metadata": {},
   "outputs": [
    {
     "name": "stdout",
     "output_type": "stream",
     "text": [
      "[0 2 1 1 2 0 1]\n",
      "[0 2 1 1 2 0 1]\n"
     ]
    }
   ],
   "source": [
    "C = np.bincount([1,1,2,3,4,4,6]) #create an array containing the occurance of each number in the vector\n",
    "print(C) #print the bincount of the vector\n",
    "# Include your solution here\n",
    "A = np.repeat(np.arange(len(C)),C) #create an array of evenly spaced values teh same size as length C, repeat values in A using the bincount\n",
    "print(np.bincount(A)) #print the bincount of array A"
   ]
  },
  {
   "cell_type": "markdown",
   "id": "EyvzOQDMvmSR",
   "metadata": {
    "id": "EyvzOQDMvmSR"
   },
   "source": [
    "**25. Find the most frequent value in the array below?**"
   ]
  },
  {
   "cell_type": "code",
   "execution_count": 26,
   "id": "LTF6TyQcvmSR",
   "metadata": {
    "id": "LTF6TyQcvmSR"
   },
   "outputs": [
    {
     "name": "stdout",
     "output_type": "stream",
     "text": [
      "Original array:\n",
      " [0 9 8 0 9 4 3 3 9 6 4 7 8 6 0 6 0 0 3 7 4 5 0 5 6 2 0 9 6 0 1 9 7 0 1 2 5\n",
      " 9 9 9 4 0 2 6 4 3 8 9 0 9] \n",
      "\n",
      "Most frequent value in the above array:\n",
      "0\n"
     ]
    }
   ],
   "source": [
    "# Return a 1-D array with 50 integer values (low = 0 inclusive , high=10 exclusive) from the \"discrete uniform\" distribution\n",
    "Z = np.random.randint(0,10,50)\n",
    "\n",
    "# print the most frequent value in the array Z\n",
    "  # np.bincount(Z) : Count number of occurrences of each value in array Z\n",
    "  # argmax(): Return indices of the maximum values along the given axis ( np.bincount(Z) as an input) \n",
    "\n",
    "print('Original array:\\n',Z,\"\\n\")\n",
    "print(\"Most frequent value in the above array:\")\n",
    "print(np.bincount(Z).argmax())\n",
    "\n"
   ]
  },
  {
   "cell_type": "markdown",
   "id": "7TwbWBamvmSS",
   "metadata": {
    "id": "7TwbWBamvmSS"
   },
   "source": [
    "**26. Write a function to return the n largest values of an array** "
   ]
  },
  {
   "cell_type": "code",
   "execution_count": 27,
   "id": "TWqoGsrivmSS",
   "metadata": {
    "id": "TWqoGsrivmSS"
   },
   "outputs": [
    {
     "name": "stdout",
     "output_type": "stream",
     "text": [
      "[9998 9999 9997 9996 9995]\n"
     ]
    }
   ],
   "source": [
    "def nlargest(a,n = 5):\n",
    "    # Include your solution here\n",
    "    \n",
    "    # Slower computation\n",
    "    # For getting n-largest values from a NumPy array we have to first sort the NumPy array using numpy.argsort() function of NumPy then applying slicing concept with negative indexing.\n",
    "    #result = Z[np.argsort(Z)[-n:]]\n",
    "\n",
    "    # Faster computation\n",
    "    # Newer NumPy versions (1.8 and up) have a function called argpartition for this. Argpartition runs in linear time, O(n), using the introselect algorithm.\n",
    "    result = (Z[np.argpartition(-Z,n)[:n]])\n",
    "    \n",
    "    return result\n",
    "\n",
    "Z = np.arange(10000)\n",
    "np.random.shuffle(Z)\n",
    "n = 5\n",
    "print(nlargest(Z,n))    "
   ]
  },
  {
   "cell_type": "code",
   "execution_count": null,
   "id": "ec8aafb7-455c-4196-a24e-e69b8b6b27f8",
   "metadata": {},
   "outputs": [],
   "source": []
  }
 ],
 "metadata": {
  "colab": {
   "collapsed_sections": [],
   "name": "assignment01-python-numpy-programming.ipynb",
   "provenance": [
    {
     "file_id": "https://github.com/rmsouza01/ENEL645/blob/master/Assignments/assignment01-python-numpy-programming.ipynb",
     "timestamp": 1642552269841
    }
   ]
  },
  "kernelspec": {
   "display_name": "Python 3",
   "language": "python",
   "name": "python3"
  },
  "language_info": {
   "codemirror_mode": {
    "name": "ipython",
    "version": 3
   },
   "file_extension": ".py",
   "mimetype": "text/x-python",
   "name": "python",
   "nbconvert_exporter": "python",
   "pygments_lexer": "ipython3",
   "version": "3.9.7"
  }
 },
 "nbformat": 4,
 "nbformat_minor": 5
}
