{
 "cells": [
  {
   "cell_type": "markdown",
   "id": "nVSfu7M5vmR7",
   "metadata": {
    "id": "nVSfu7M5vmR7"
   },
   "source": [
    "# Assignment #01\n",
    "\n",
    "This assignment is composed of multiple Python and NumPy programming exercises. The deliverable of this assignment is this jupyter-notebook completed with your solution.\n",
    "\n",
    "The delivery instructions are the following:\n",
    "    - Create a GitHub repository for your team. You are free to choose its name. This repository will be used to delvier the programming assignments and the code of your team's final project.\n",
    "    - Create a folder assignment-01 in the repository. Put the jupyter-notebook with your solution in this repository and post the repository link in your team's D2L dropbox for the assignment.\n",
    "\n",
    "You are being assessed based on:\n",
    "\n",
    "1. Code execution - 25% \n",
    "2. Clarity of the code (e.g., easy to follow, has pertinent comments, etc.) - 25%\n",
    "3. Proper usage of the techniques seen in class - 25%\n",
    "    - remember to avoid explicit Python loops!  \n",
    "4. Quality and correcteness of the results - 25%\n",
    "\n",
    "More details about the assessment are available in the rubric document in the class GitHub repository.\n",
    "\n",
    "Points distribution:\n",
    "- Question 2-21: 3 points per question \n",
    "- Questions 22-26: 8 points per question (total 40)\n",
    "- Total: 100 ponits"
   ]
  },
  {
   "cell_type": "code",
   "execution_count": null,
   "id": "R9ElIRafvmR_",
   "metadata": {
    "id": "R9ElIRafvmR_"
   },
   "outputs": [],
   "source": [
    "import matplotlib.pylab as plt"
   ]
  },
  {
   "cell_type": "markdown",
   "id": "tiT37NW-vmSB",
   "metadata": {
    "id": "tiT37NW-vmSB"
   },
   "source": [
    "**1. Import the numpy package under the name np**"
   ]
  },
  {
   "cell_type": "code",
   "execution_count": 2,
   "id": "XwvM5YvIvmSC",
   "metadata": {
    "id": "XwvM5YvIvmSC"
   },
   "outputs": [],
   "source": [
    "import numpy as np"
   ]
  },
  {
   "cell_type": "markdown",
   "id": "2LiOAET-vmSC",
   "metadata": {
    "id": "2LiOAET-vmSC"
   },
   "source": [
    "**2. Print the numpy version and the configuration**"
   ]
  },
  {
   "cell_type": "code",
   "execution_count": null,
   "id": "WxQLMNeWvmSC",
   "metadata": {
    "id": "WxQLMNeWvmSC"
   },
   "outputs": [],
   "source": [
    "print(np.__version__) #printing numpy version\n",
    "print(np.show_config()) #printing numpy configuration"
   ]
  },
  {
   "cell_type": "markdown",
   "id": "DFqx6HAzvmSD",
   "metadata": {
    "id": "DFqx6HAzvmSD"
   },
   "source": [
    "**3. Create a 1D array of zeros of size 10 of type float32**"
   ]
  },
  {
   "cell_type": "code",
   "execution_count": null,
   "id": "02obNooqvmSD",
   "metadata": {
    "id": "02obNooqvmSD"
   },
   "outputs": [],
   "source": [
    "np.zeros(10, dtype=np.float32) #np.zeros creates an array, the first parameter denotes the size of array and the second parameter (dtype) denotes the data type."
   ]
  },
  {
   "cell_type": "markdown",
   "id": "eoMv7lwKvmSD",
   "metadata": {
    "id": "eoMv7lwKvmSD"
   },
   "source": [
    "**4. Print the memory size of the array below**"
   ]
  },
  {
   "cell_type": "code",
   "execution_count": 29,
   "id": "yC20RRPUvmSE",
   "metadata": {
    "id": "yC20RRPUvmSE"
   },
   "outputs": [
    {
     "name": "stdout",
     "output_type": "stream",
     "text": [
      "The memory size of the array: 3072 bytes\n"
     ]
    }
   ],
   "source": [
    "Z = np.zeros((32,12))\n",
    "# Include your solution below\n",
    "# Print the memory size of the array using size and itemsize attributes of NumPy array. \n",
    "# size: This attribute gives the number of elements present in the NumPy array. itemsize: This attribute gives the memory size of one element of NumPy array in bytes\n",
    "\n",
    "print(\"The memory size of the array: %d bytes\" % (Z.size * Z.itemsize)) "
   ]
  },
  {
   "cell_type": "markdown",
   "id": "V0F3tA4rvmSE",
   "metadata": {
    "id": "V0F3tA4rvmSE"
   },
   "source": [
    "**5. Create a 1D array with values ranging from 10 to 58**"
   ]
  },
  {
   "cell_type": "code",
   "execution_count": null,
   "id": "D6pJTid1vmSF",
   "metadata": {
    "id": "D6pJTid1vmSF"
   },
   "outputs": [],
   "source": []
  },
  {
   "cell_type": "markdown",
   "id": "AxlyprX3vmSF",
   "metadata": {
    "id": "AxlyprX3vmSF"
   },
   "source": [
    "**6. Reverse the order of the values in the vector (first element becomes last)**"
   ]
  },
  {
   "cell_type": "code",
   "execution_count": null,
   "id": "eCRS1GwkvmSF",
   "metadata": {
    "id": "eCRS1GwkvmSF"
   },
   "outputs": [],
   "source": [
    "a = np.arange(10)\n",
    "# Include your solution below"
   ]
  },
  {
   "cell_type": "markdown",
   "id": "x73AYTGTvmSG",
   "metadata": {
    "id": "x73AYTGTvmSG"
   },
   "source": [
    "**7. Create a 3x3 matrix with values ranging from 0 to 8**"
   ]
  },
  {
   "cell_type": "code",
   "execution_count": null,
   "id": "vdJs4r9JvmSG",
   "metadata": {
    "id": "vdJs4r9JvmSG"
   },
   "outputs": [],
   "source": []
  },
  {
   "cell_type": "markdown",
   "id": "rtn9kcjmvmSG",
   "metadata": {
    "id": "rtn9kcjmvmSG"
   },
   "source": [
    "**8. Create a 3x3 identity matrix**"
   ]
  },
  {
   "cell_type": "code",
   "execution_count": null,
   "id": "8hdTeWcovmSH",
   "metadata": {
    "id": "8hdTeWcovmSH"
   },
   "outputs": [],
   "source": [
    "np.identity(3) #np.identity is used to create a square identity matrix i.e. all elements zero with 1's in the main diagonal. The parameter '3' is the size of the square array."
   ]
  },
  {
   "cell_type": "markdown",
   "id": "2kjG1CiivmSH",
   "metadata": {
    "id": "2kjG1CiivmSH"
   },
   "source": [
    "**9. Find and print the maximum values of each column in the array below** "
   ]
  },
  {
   "cell_type": "code",
   "execution_count": null,
   "id": "5omaeYBfvmSH",
   "metadata": {
    "id": "5omaeYBfvmSH"
   },
   "outputs": [],
   "source": [
    "Z = np.random.random((10,11))\n",
    "# Include your solution below"
   ]
  },
  {
   "cell_type": "code",
   "execution_count": null,
   "id": "9H_rQU29vmSI",
   "metadata": {
    "id": "9H_rQU29vmSI"
   },
   "outputs": [],
   "source": []
  },
  {
   "cell_type": "markdown",
   "id": "4aqhA5QxvmSI",
   "metadata": {
    "id": "4aqhA5QxvmSI"
   },
   "source": [
    "**10. Create a $7 \\times 7$ array with 1s on the borders (first row and column, last row and columns) and 0s everywhere else**"
   ]
  },
  {
   "cell_type": "code",
   "execution_count": null,
   "id": "kjl_GY9kvmSI",
   "metadata": {
    "id": "kjl_GY9kvmSI"
   },
   "outputs": [],
   "source": [
    "a = np.ones((7,7) ) #create a 7x7 array of ones\n",
    "a[1:-1,1:-1]=0 #using indexing change the central values to 0\n",
    "print(a) #print the solution"
   ]
  },
  {
   "cell_type": "markdown",
   "id": "kefqxnP4vmSI",
   "metadata": {
    "id": "kefqxnP4vmSI"
   },
   "source": [
    "**11. Pad the existing array below with zeros (i.e., add additional rows and columns with zeros). Use the NumPy pad function.**"
   ]
  },
  {
   "cell_type": "code",
   "execution_count": 30,
   "id": "3YN1KfapvmSJ",
   "metadata": {
    "id": "3YN1KfapvmSJ"
   },
   "outputs": [
    {
     "name": "stdout",
     "output_type": "stream",
     "text": [
      "Initial array:\n",
      " [[1. 1. 1. 1. 1.]\n",
      " [1. 1. 1. 1. 1.]\n",
      " [1. 1. 1. 1. 1.]\n",
      " [1. 1. 1. 1. 1.]\n",
      " [1. 1. 1. 1. 1.]]\n",
      "-------------------------------\n",
      "\n",
      "First option for padding with 0:\n",
      " [[0. 0. 0. 0. 0. 0. 0.]\n",
      " [0. 1. 1. 1. 1. 1. 0.]\n",
      " [0. 1. 1. 1. 1. 1. 0.]\n",
      " [0. 1. 1. 1. 1. 1. 0.]\n",
      " [0. 1. 1. 1. 1. 1. 0.]\n",
      " [0. 1. 1. 1. 1. 1. 0.]\n",
      " [0. 0. 0. 0. 0. 0. 0.]]\n",
      "-------------------------------\n",
      "\n",
      "Second option for padding with 0:\n",
      " [[0. 0. 0. 0. 0. 0. 0.]\n",
      " [0. 1. 1. 1. 1. 1. 0.]\n",
      " [0. 1. 1. 1. 1. 1. 0.]\n",
      " [0. 1. 1. 1. 1. 1. 0.]\n",
      " [0. 1. 1. 1. 1. 1. 0.]\n",
      " [0. 1. 1. 1. 1. 1. 0.]\n",
      " [0. 0. 0. 0. 0. 0. 0.]]\n"
     ]
    }
   ],
   "source": [
    "Z = np.ones((5,5))\n",
    "\n",
    "# Include your solution below\n",
    "print(\"Initial array:\\n\", Z)\n",
    "print(\"-------------------------------\\n\")\n",
    "\n",
    "# First Option\n",
    "# The array padding transformation sets a dimension in an array to a new size. The goal of this transformation is to reduce the number of memory system conflicts.\n",
    "Z = np.pad(Z, pad_width=1, mode='constant', constant_values=0)\n",
    "print(\"First option for padding with 0:\\n\", Z)\n",
    "print(\"-------------------------------\\n\")\n",
    "\n",
    "# Second Option\n",
    "# Fancy indexing is like the simple indexing we've already seen, but we pass arrays of indices in place of single scalars. This allows us to very quickly access and modify complicated subsets of an array's values.\n",
    "# Fancy indexing\n",
    "Z[:, [0, -1]] = 0\n",
    "Z[[0, -1], :] = 0\n",
    "print(\"Second option for padding with 0:\\n\", Z)"
   ]
  },
  {
   "cell_type": "markdown",
   "id": "9zTVGFnCvmSJ",
   "metadata": {
    "id": "9zTVGFnCvmSJ"
   },
   "source": [
    "**12. Extract the integer part of the random array of positive numbers below**"
   ]
  },
  {
   "cell_type": "code",
   "execution_count": null,
   "id": "cEbeOkEjvmSJ",
   "metadata": {
    "id": "cEbeOkEjvmSJ"
   },
   "outputs": [],
   "source": [
    "Z = np.random.uniform(0,10,10)\n",
    "# Include your solution below"
   ]
  },
  {
   "cell_type": "markdown",
   "id": "qsqZLjCDvmSK",
   "metadata": {
    "id": "qsqZLjCDvmSK"
   },
   "source": [
    "**13. Create a 5x5 matrix with rows with equal values ranging from 0 to 4 (i.e., [0,1,2,3,4])**\n",
    "\n",
    "*Hint:* consider using NumPy broadcasting or the tile function*"
   ]
  },
  {
   "cell_type": "code",
   "execution_count": null,
   "id": "IzxkIKuNvmSL",
   "metadata": {
    "id": "IzxkIKuNvmSL"
   },
   "outputs": [],
   "source": [
    "z = np.tile(np.arange(0,5),(5,1)) #use Numpy tile function to create a 5x5 matrix where each row values ranging from 0 to 4\n",
    "print(z) #print solution"
   ]
  },
  {
   "cell_type": "markdown",
   "id": "jDgWqVyovmSL",
   "metadata": {
    "id": "jDgWqVyovmSL"
   },
   "source": [
    "**14. Create a vector of size 10 with values ranging from 0 to 1 (0 and 1 not included)**\n",
    "\n",
    "*Hint: Consider using the linspace function*"
   ]
  },
  {
   "cell_type": "code",
   "execution_count": null,
   "id": "rT2B53N-vmSL",
   "metadata": {
    "id": "rT2B53N-vmSL"
   },
   "outputs": [],
   "source": [
    "#linspace returns 11 (given by third parameter) evenly spaced values in the range of 1 (given by first parameter) to 1 (second paramater).\n",
    "#to get 10 values between 0 and 1, we get 11 values and then discard the first value so as to not include the starting value i.e. 0, and use the endpoint parameter to not include endpoint i.e. 1.\n",
    "x = np.linspace(0,1,11, endpoint=False)[1:] \n",
    "x"
   ]
  },
  {
   "cell_type": "markdown",
   "id": "fCZ3_M74vmSL",
   "metadata": {
    "id": "fCZ3_M74vmSL"
   },
   "source": [
    "**15. Create a random vector of size 10 and sort it**"
   ]
  },
  {
   "cell_type": "code",
   "execution_count": 15,
   "id": "dg_Fx29mvmSM",
   "metadata": {
    "id": "dg_Fx29mvmSM"
   },
   "outputs": [
    {
     "name": "stdout",
     "output_type": "stream",
     "text": [
      "[0.01070194 0.36623697 0.53151562 0.54978297 0.73605361 0.78717738\n",
      " 0.79503016 0.84613128 0.93503537 0.99566965]\n"
     ]
    }
   ],
   "source": [
    "Z = np.random.random(10)\n",
    "Z.sort() # Note: This method returns a copy of the array, leaving the original array unchanged. To save the result in a new variable, the following code should be used: Z_sortet = Z.sort()\n",
    "print(Z)"
   ]
  },
  {
   "cell_type": "markdown",
   "id": "gOIgqax2vmSM",
   "metadata": {
    "id": "gOIgqax2vmSM"
   },
   "source": [
    "**16. Consider the cartesian coordinates below (X and Y), convert them to polar coordinates (R and T)**"
   ]
  },
  {
   "cell_type": "code",
   "execution_count": null,
   "id": "e8892RQcvmSM",
   "metadata": {
    "id": "e8892RQcvmSM"
   },
   "outputs": [],
   "source": [
    "Z = np.random.random((10,2))\n",
    "X,Y = Z[:,0], Z[:,1]\n",
    "# Include your solution below\n"
   ]
  },
  {
   "cell_type": "markdown",
   "id": "ZZqY5hfrvmSN",
   "metadata": {
    "id": "ZZqY5hfrvmSN"
   },
   "source": [
    "**17. Create random vector of size 10 and replace the maximum value by 0**"
   ]
  },
  {
   "cell_type": "code",
   "execution_count": null,
   "id": "QSvkzPJfvmSN",
   "metadata": {
    "id": "QSvkzPJfvmSN"
   },
   "outputs": [],
   "source": [
    "z = np.random.random(10) #create a random vector size 10\n",
    "print(z) #print the random vector\n",
    "z[z.argmax()] = 0 #use argmax to find the maximum value, use indexing to replace with 0\n",
    "print(z) #print z where the max value has been replaced with 0"
   ]
  },
  {
   "cell_type": "markdown",
   "id": "68uDLoyDvmSN",
   "metadata": {
    "id": "68uDLoyDvmSN"
   },
   "source": [
    "**18. Find the nearest value from a given value (z) in an array (Z)**"
   ]
  },
  {
   "cell_type": "code",
   "execution_count": null,
   "id": "IfEIwh7PvmSN",
   "metadata": {
    "id": "IfEIwh7PvmSN"
   },
   "outputs": [],
   "source": [
    "Z = np.random.uniform(0,1,10)\n",
    "z = 0.5\n",
    "# Include your solution below"
   ]
  },
  {
   "cell_type": "markdown",
   "id": "ZG0c1mhMvmSO",
   "metadata": {
    "id": "ZG0c1mhMvmSO"
   },
   "source": [
    "**19. Consider the vector [5, 4, 3, 2, 1], how to build a new vector with 3 consecutive zeros interleaved between each value?**"
   ]
  },
  {
   "cell_type": "code",
   "execution_count": 19,
   "id": "2jKjZhNgvmSO",
   "metadata": {
    "id": "2jKjZhNgvmSO"
   },
   "outputs": [
    {
     "name": "stdout",
     "output_type": "stream",
     "text": [
      "[4. 0. 0. 0. 3. 0. 0. 0. 2. 0. 0. 0. 1. 0. 0. 0. 0.]\n"
     ]
    }
   ],
   "source": [
    "Z = np.arange(5)[::-1]\n",
    "# Include your solution below\n",
    "\n",
    "numberOf_zeros = 3 # number of zeros we want to add between each value\n",
    "Z_final = np.zeros(len(Z) + (len(Z)-1)*(numberOf_zeros)) # creating a new array with the number of zeros needed to be add to the primary array\n",
    "Z_final[::numberOf_zeros+1] = Z # filling the array with original numbers and 3 consecutive zeros between each value\n",
    "print(Z_final)"
   ]
  },
  {
   "cell_type": "markdown",
   "id": "-3VzEWQhvmSO",
   "metadata": {
    "id": "-3VzEWQhvmSO"
   },
   "source": [
    "**20. Consider an array of dimension (5,5,3), how to mulitply it element-wise by an array with dimensions (5,5) - i.e., (5,5,0)$\\times$(5,5), (5,5,1)$\\times$(5,5), (5,5,2)$\\times$(5,5)**"
   ]
  },
  {
   "cell_type": "code",
   "execution_count": null,
   "id": "3CvfRLn3vmSP",
   "metadata": {
    "id": "3CvfRLn3vmSP"
   },
   "outputs": [],
   "source": [
    "A = np.ones((5,5,3))\n",
    "B = 2*np.ones((5,5))\n",
    "# Include your solution below\n",
    "#np.einsum takes i,j,k (the 3 axes of A) and i,j (the 2 axes) of B as inputs, common notations i, j in both A & B denote that i,j matrix of A is multiplied elementwise with i,j matrix of B. This is repeated for each k (depth) of A. \n",
    "C = np.einsum('ijk,ij->ijk', A, B)  \n",
    "print(C.shape,'\\n', C)"
   ]
  },
  {
   "cell_type": "markdown",
   "id": "QUrWnAAHvmSP",
   "metadata": {
    "id": "QUrWnAAHvmSP"
   },
   "source": [
    "**21. Swap the first and second rows of the 2D array below**"
   ]
  },
  {
   "cell_type": "code",
   "execution_count": null,
   "id": "dgkFMhYivmSP",
   "metadata": {
    "id": "dgkFMhYivmSP"
   },
   "outputs": [],
   "source": [
    "W = np.arange(30).reshape(6,5)\n",
    "print(W)\n",
    "print()\n",
    "# Include your solution below\n"
   ]
  },
  {
   "cell_type": "markdown",
   "id": "Vxjhb756vmSQ",
   "metadata": {
    "id": "Vxjhb756vmSQ"
   },
   "source": [
    "**22. Write a function that receives as input a 2D Boolean NumPy array and outputs the coordinates of the minimal bounding-box\n",
    "that encloses all non-zero elements in the input array**\n",
    "\n",
    "**Tip:** search for the functions nonzero and where in the NumPy documentation.\n",
    "\n",
    "\n",
    "<img src=\"https://github.com/rmsouza01/ENEL645/blob/master/Figures/bbox.png?raw=1\" width=\"150\" /> "
   ]
  },
  {
   "cell_type": "code",
   "execution_count": null,
   "id": "ua4eg14zvmSQ",
   "metadata": {
    "id": "ua4eg14zvmSQ"
   },
   "outputs": [],
   "source": [
    "def bbox(img):\n",
    "    #include your solution below\n",
    "    y,x = np.where(img == 1) #coordinate arrays (y and x) are returned denoting all location with '1' in the image\n",
    "    r1, c1 = min(x), min(y) #min values from both x and y coordinate arrays are calculated for top left coordinates of bounding box\n",
    "    r2, c2 = max(x), max(y) #max values from both x and y coordinate arrays are calculated for bottom right coordinates of bounding box\n",
    "    return (r1,c1),(r2,c2)\n",
    "\n",
    "\n",
    "from PIL import Image, ImageDraw\n",
    "\n",
    "img = np.array(Image.open('../Figures/bin_image.png').convert('L')) > 0\n",
    "print(bbox(img))\n",
    "\n",
    "#displaying image with bounding box\n",
    "a, b = bbox(img)\n",
    "im = Image.open('../Figures/bin_image.png')\n",
    "draw = ImageDraw.Draw(im)\n",
    "draw.rectangle([(a[0], a[1]), (b[0], b[1])], outline='red')\n",
    "plt.imshow(im)\n"
   ]
  },
  {
   "cell_type": "markdown",
   "id": "q2xeRAd1vmSQ",
   "metadata": {
    "id": "q2xeRAd1vmSQ"
   },
   "source": [
    "**23.Write a function to compute the average over a sliding window of length N over a 1D array?**\n",
    "\n",
    "*Example:* [1,2,3,4,5,6,7,8,9], N = 3 -> [2,5,8]"
   ]
  },
  {
   "cell_type": "code",
   "execution_count": null,
   "id": "BXPXK6sXvmSR",
   "metadata": {
    "id": "BXPXK6sXvmSR"
   },
   "outputs": [],
   "source": [
    "def moving_average(x,N = 3):\n",
    "    #define your function here\n",
    "    return\n",
    "\n",
    "a = np.arange(30)\n",
    "N = 3\n",
    "print(moving_average(a,N))"
   ]
  },
  {
   "cell_type": "markdown",
   "id": "xYvccoZLvmSR",
   "metadata": {
    "id": "xYvccoZLvmSR"
   },
   "source": [
    "**24.  Given a sorted 1D array C that corresponds to a bincount, how to produce an array A such that np.bincount(A) == C?**\n",
    "\n",
    "*Example:* C = [3,2,4] -> D = [0,0,0,1,1,2,2,2,2]\n",
    "\n",
    "*Tip:* Consider using the NumPy repeat function"
   ]
  },
  {
   "cell_type": "code",
   "execution_count": null,
   "id": "13f61efd",
   "metadata": {},
   "outputs": [],
   "source": [
    "C = np.bincount([1,1,2,3,4,4,6]) #create an array containing the occurance of each number in the vector\n",
    "print(C) #print the bincount of the vector\n",
    "# Include your solution here\n",
    "A = np.repeat(np.arange(len(C)),C) #create an array of evenly spaced values teh same size as length C, repeat values in A using the bincount\n",
    "print(np.bincount(A)) #print the bincount of array A"
   ]
  },
  {
   "cell_type": "markdown",
   "id": "EyvzOQDMvmSR",
   "metadata": {
    "id": "EyvzOQDMvmSR"
   },
   "source": [
    "**25. Find the most frequent value in the array below?**"
   ]
  },
  {
   "cell_type": "code",
   "execution_count": null,
   "id": "LTF6TyQcvmSR",
   "metadata": {
    "id": "LTF6TyQcvmSR"
   },
   "outputs": [],
   "source": [
    "Z = np.random.randint(0,10,50)\n",
    "# Include your solution below"
   ]
  },
  {
   "cell_type": "markdown",
   "id": "7TwbWBamvmSS",
   "metadata": {
    "id": "7TwbWBamvmSS"
   },
   "source": [
    "**26. Write a function to return the n largest values of an array** "
   ]
  },
  {
   "cell_type": "code",
   "execution_count": 27,
   "id": "TWqoGsrivmSS",
   "metadata": {
    "id": "TWqoGsrivmSS"
   },
   "outputs": [
    {
     "name": "stdout",
     "output_type": "stream",
     "text": [
      "[9995 9999 9996 9997 9998]\n"
     ]
    }
   ],
   "source": [
    "def nlargest(a,n = 5):\n",
    "    # Include your solution here\n",
    "    \n",
    "    # Slower computation\n",
    "    # For getting n-largest values from a NumPy array we have to first sort the NumPy array using numpy.argsort() function of NumPy then applying slicing concept with negative indexing.\n",
    "    #result = Z[np.argsort(Z)[-n:]]\n",
    "\n",
    "    # Faster computation\n",
    "    # Newer NumPy versions (1.8 and up) have a function called argpartition for this. Argpartition runs in linear time, O(n), using the introselect algorithm.\n",
    "    result = (Z[np.argpartition(-Z,n)[:n]])\n",
    "    \n",
    "    return result\n",
    "\n",
    "Z = np.arange(10000)\n",
    "np.random.shuffle(Z)\n",
    "n = 5\n",
    "print(nlargest(Z,n))    "
   ]
  },
  {
   "cell_type": "code",
   "execution_count": null,
   "id": "ec8aafb7-455c-4196-a24e-e69b8b6b27f8",
   "metadata": {},
   "outputs": [],
   "source": []
  }
 ],
 "metadata": {
  "colab": {
   "collapsed_sections": [],
   "name": "assignment01-python-numpy-programming.ipynb",
   "provenance": [
    {
     "file_id": "https://github.com/rmsouza01/ENEL645/blob/master/Assignments/assignment01-python-numpy-programming.ipynb",
     "timestamp": 1642552269841
    }
   ]
  },
  "kernelspec": {
   "display_name": "Python 3",
   "language": "python",
   "name": "python3"
  },
  "language_info": {
   "codemirror_mode": {
    "name": "ipython",
    "version": 3
   },
   "file_extension": ".py",
   "mimetype": "text/x-python",
   "name": "python",
   "nbconvert_exporter": "python",
   "pygments_lexer": "ipython3",
   "version": "3.8.2"
  }
 },
 "nbformat": 4,
 "nbformat_minor": 5
}
