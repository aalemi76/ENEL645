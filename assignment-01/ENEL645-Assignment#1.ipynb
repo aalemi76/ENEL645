{
 "cells": [
  {
   "cell_type": "code",
   "execution_count": 11,
   "id": "d6091841",
   "metadata": {},
   "outputs": [
    {
     "name": "stdout",
     "output_type": "stream",
     "text": [
      " Original order of a =  [0 1 2 3 4 5 6 7 8 9]\n",
      " Reverse  order of a =  [9 8 7 6 5 4 3 2 1 0]\n"
     ]
    }
   ],
   "source": [
    "# 6. Reverse the order of the values in the vector (first element becomes last)\n",
    "\n",
    "import numpy as np # import numpy library\n",
    "\n",
    "a = np.arange(10) # creating list of values\n",
    "\n",
    "print(' Original order of a = ',a)        # print original a values\n",
    "print(' Reverse  order of a = ',a[::-1])  # print revers a values"
   ]
  },
  {
   "cell_type": "code",
   "execution_count": 28,
   "id": "b4bf3924",
   "metadata": {},
   "outputs": [
    {
     "name": "stdout",
     "output_type": "stream",
     "text": [
      "3x3 matrix  with values ranging from 0 to 8 = \n",
      " [[0 1 2]\n",
      " [3 4 5]\n",
      " [6 7 8]]\n"
     ]
    }
   ],
   "source": [
    "# 7. Create a 3x3 matrix with values ranging from 0 to 8\n",
    "\n",
    "a=np.arange(9) #creating list of values\n",
    "a.shape=(3,3)  #change a shape \n",
    "\n",
    "print ('3x3 matrix  with values ranging from 0 to 8 =',\"\\n\",a)\n",
    "    "
   ]
  },
  {
   "cell_type": "code",
   "execution_count": 58,
   "id": "4d16e644",
   "metadata": {},
   "outputs": [
    {
     "name": "stdout",
     "output_type": "stream",
     "text": [
      "polar coordinates (R and T) \n",
      "\n",
      "[1.01311939 0.64545554 1.15757352 0.87874193 0.37923437 0.42018888\n",
      " 0.87158291 0.92498398 1.22762438 0.64552787] \n",
      "\n",
      "[1.17380069 1.21465984 0.86005819 0.51005252 0.84188626 1.0837277\n",
      " 0.15220041 0.4048211  0.72009308 1.20198807] \n",
      "\n"
     ]
    }
   ],
   "source": [
    "# 16. Consider the cartesian coordinates below (X and Y), convert them to polar coordinates (R and T)\n",
    "\n",
    "Z = np.random.random((10,2))\n",
    "X,Y = Z[:,0], Z[:,1]\n",
    "\n",
    "\n",
    "\n",
    "R=np.sqrt(X**2+Y**2)\n",
    "T=np.arctan2(Y,X)\n",
    "\n",
    "print('polar coordinates (R and T)',\"\\n\")\n",
    "\n",
    "print(R,\"\\n\")\n",
    "print(T,\"\\n\")\n",
    "\n",
    "\n"
   ]
  },
  {
   "cell_type": "code",
   "execution_count": 43,
   "id": "2942436b",
   "metadata": {},
   "outputs": [
    {
     "name": "stdout",
     "output_type": "stream",
     "text": [
      "the nearest value from a given value (z) in an array (Z) = 0.5183121715930158\n"
     ]
    }
   ],
   "source": [
    "# 18 Find the nearest value from a given value (z) in an array (Z)\n",
    "\n",
    "Z = np.random.uniform(0,1,10) # Creating array (Z)\n",
    "z = 0.5                       # given value (z)\n",
    "\n",
    "\n",
    "# Find the nearest value from a given value (z) in an array (Z)\n",
    "n = Z.flat[np.abs(Z - z).argmin()] \n",
    "\n",
    "print('the nearest value from a given value (z) in an array (Z) =',n)\n",
    "\n",
    "\n"
   ]
  },
  {
   "cell_type": "code",
   "execution_count": 64,
   "id": "1cd68f68",
   "metadata": {},
   "outputs": [
    {
     "name": "stdout",
     "output_type": "stream",
     "text": [
      "Original array:\n",
      "[1 2 8 7 2 3 5 1 3 3 7 9 0 0 7 3 8 3 4 8 4 1 0 6 1 2 3 7 0 1 6 0 8 9 3 8 8\n",
      " 4 8 3 6 8 9 4 6 7 7 8 0 4]\n",
      "\n",
      "\n",
      "Most frequent value in the above array:\n",
      "8\n"
     ]
    }
   ],
   "source": [
    "#25. Find the most frequent value in the array below?\n",
    "\n",
    "Z = np.random.randint(0,10,50)\n",
    "\n",
    "print(\"Original array:\")\n",
    "print(Z)\n",
    "print(\"\\n\")\n",
    "print(\"Most frequent value in the above array:\")\n",
    "print(np.bincount(Z).argmax())"
   ]
  }
 ],
 "metadata": {
  "kernelspec": {
   "display_name": "Python 3 (ipykernel)",
   "language": "python",
   "name": "python3"
  },
  "language_info": {
   "codemirror_mode": {
    "name": "ipython",
    "version": 3
   },
   "file_extension": ".py",
   "mimetype": "text/x-python",
   "name": "python",
   "nbconvert_exporter": "python",
   "pygments_lexer": "ipython3",
   "version": "3.9.7"
  }
 },
 "nbformat": 4,
 "nbformat_minor": 5
}
